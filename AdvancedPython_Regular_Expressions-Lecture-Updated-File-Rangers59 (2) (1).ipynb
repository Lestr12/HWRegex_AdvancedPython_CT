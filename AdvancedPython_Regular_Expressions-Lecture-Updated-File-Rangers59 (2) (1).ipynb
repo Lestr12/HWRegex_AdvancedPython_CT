{
 "cells": [
  {
   "cell_type": "markdown",
   "metadata": {},
   "source": [
    "# Regular Expressions"
   ]
  },
  {
   "cell_type": "markdown",
   "metadata": {},
   "source": [
    "# Tasks today:\n",
    "1) <b>Importing</b> <br>\n",
    "2) <b>Using Regular Expressions</b> <br>\n",
    " &nbsp;&nbsp;&nbsp;&nbsp; a) re.compile() <br>\n",
    " &nbsp;&nbsp;&nbsp;&nbsp; b) re.match() <br>\n",
    " &nbsp;&nbsp;&nbsp;&nbsp; c) re.findall() <br>\n",
    " &nbsp;&nbsp;&nbsp;&nbsp; d) re.search() <br>\n",
    "3) <b>Sets</b> <br>\n",
    " &nbsp;&nbsp;&nbsp;&nbsp; a) Integer Ranges <br>\n",
    " &nbsp;&nbsp;&nbsp;&nbsp; b) Character Ranges <br>\n",
    "4) <b>Counting Occurences</b> <br>\n",
    " &nbsp;&nbsp;&nbsp;&nbsp; a) {x} <br>\n",
    " &nbsp;&nbsp;&nbsp;&nbsp; b) {, x} <br>\n",
    " &nbsp;&nbsp;&nbsp;&nbsp; c) {?} <br>\n",
    " &nbsp;&nbsp;&nbsp;&nbsp; d) {*} <br>\n",
    " &nbsp;&nbsp;&nbsp;&nbsp; e) {+} <br>\n",
    "5) <b>In-Class Exercise #1</b> <br>\n",
    "6) <b>Escaping Characters</b> <br>\n",
    "7) <b>Grouping</b> <br>\n",
    "8) <b>In-Class Exercise #2</b> <br>\n",
    "9) <b>Opening a File</b> <br>\n",
    " &nbsp;&nbsp;&nbsp;&nbsp; a) open() <br>\n",
    " &nbsp;&nbsp;&nbsp;&nbsp; b) with open() <br>\n",
    " &nbsp;&nbsp;&nbsp;&nbsp; c) re.match() <br>\n",
    " &nbsp;&nbsp;&nbsp;&nbsp; d) re.search() <br>\n",
    " &nbsp;&nbsp;&nbsp;&nbsp; e) Store the String in a Variable <br>\n",
    "10) <b>Regex Project</b> <br>"
   ]
  },
  {
   "cell_type": "markdown",
   "metadata": {},
   "source": [
    "### Importing <br>\n",
    "<p>Regular Expressions are universal throughout most programming languages... They are generally imported through the module 're'.</p>"
   ]
  },
  {
   "cell_type": "code",
   "execution_count": 1,
   "metadata": {},
   "outputs": [],
   "source": [
    "# import re\n",
    "import re"
   ]
  },
  {
   "cell_type": "markdown",
   "metadata": {},
   "source": [
    "### Using Regular Expressions <br>\n",
    "<p>Regular expressions give us the ability to search for patterns within text, strings, files, etc. They serve several uses, such as; security measures, searching, filtering, pattern recognition, and more...</p>"
   ]
  },
  {
   "cell_type": "markdown",
   "metadata": {},
   "source": [
    "##### re.compile()"
   ]
  },
  {
   "cell_type": "code",
   "execution_count": 3,
   "metadata": {},
   "outputs": [
    {
     "name": "stdout",
     "output_type": "stream",
     "text": [
      "['email@example.com', 'support@example.org']\n"
     ]
    }
   ],
   "source": [
    "import re\n",
    "\n",
    "text = \"Contact us at email@example.com or support@example.org for assistance.\"\n",
    "pattern = r'[\\w\\.-]+@[\\w\\.-]+'\n",
    "\n",
    "email_regex = re.compile(pattern)\n",
    "\n",
    "emails = email_regex.findall(text)\n",
    "\n",
    "print(emails)\n",
    "\n"
   ]
  },
  {
   "cell_type": "markdown",
   "metadata": {},
   "source": [
    "##### re.match()"
   ]
  },
  {
   "cell_type": "code",
   "execution_count": 2,
   "metadata": {},
   "outputs": [
    {
     "name": "stdout",
     "output_type": "stream",
     "text": [
      "Match found: Hello\n",
      "Match span: (0, 5)\n"
     ]
    }
   ],
   "source": [
    "import re\n",
    "\n",
    "text = \"Hello, world!\"\n",
    "\n",
    "pattern = r'Hello'\n",
    "\n",
    "match = re.match(pattern, text)\n",
    "\n",
    "if match:\n",
    "    span = match.span()\n",
    "    print(\"Match found:\", text[span[0]:span[1]])\n",
    "    print(\"Match span:\", span)\n",
    "else:\n",
    "    print(\"No match found.\")\n"
   ]
  },
  {
   "cell_type": "markdown",
   "metadata": {},
   "source": [
    "##### re.findall()"
   ]
  },
  {
   "cell_type": "code",
   "execution_count": 5,
   "metadata": {},
   "outputs": [
    {
     "name": "stdout",
     "output_type": "stream",
     "text": [
      "['email@example.com', 'support@example.org']\n"
     ]
    }
   ],
   "source": [
    "import re\n",
    "\n",
    "text = \"Contact us at email@example.com or support@example.org for assistance.\"\n",
    "\n",
    "pattern = r'[\\w\\.-]+@[\\w\\.-]+'\n",
    "\n",
    "emails = re.findall(pattern, text)\n",
    "\n",
    "print(emails)\n"
   ]
  },
  {
   "cell_type": "markdown",
   "metadata": {},
   "source": [
    "##### re.search()"
   ]
  },
  {
   "cell_type": "code",
   "execution_count": null,
   "metadata": {},
   "outputs": [],
   "source": [
    "import re\n",
    "\n",
    "text = \"Contact us at email@example.com or support@example.org for assistance.\"\n",
    "pattern = r'[\\w\\.-]+@[\\w\\.-]+'\n",
    "emails = re.findall(pattern, text)\n",
    "\n",
    "print(emails)\n"
   ]
  },
  {
   "cell_type": "markdown",
   "metadata": {},
   "source": [
    "### Sets <br>\n",
    "<p>The following cells will allow you to use regular expressions to search for certain values within a range such as numbers 1 through 4.</p>"
   ]
  },
  {
   "cell_type": "markdown",
   "metadata": {},
   "source": [
    "##### [a-z] or [A-Z] - any lowercase/uppercase letters from a to z<br/>[^2] - anything that's not 2"
   ]
  },
  {
   "cell_type": "markdown",
   "metadata": {},
   "source": [
    "##### Integer Ranges"
   ]
  },
  {
   "cell_type": "code",
   "execution_count": 6,
   "metadata": {},
   "outputs": [
    {
     "name": "stdout",
     "output_type": "stream",
     "text": [
      "['1', '2', '3', '4']\n"
     ]
    }
   ],
   "source": [
    "import re\n",
    "\n",
    "text = \"Numbers: 1, 2, 3, 4, 5\"\n",
    "\n",
    "pattern = r'[1-4]'\n",
    "\n",
    "matches = re.findall(pattern, text)\n",
    "\n",
    "print(matches)  # Output: ['1', '2', '3', '4']\n"
   ]
  },
  {
   "cell_type": "markdown",
   "metadata": {},
   "source": [
    "##### Character Ranges"
   ]
  },
  {
   "cell_type": "code",
   "execution_count": 7,
   "metadata": {},
   "outputs": [
    {
     "name": "stdout",
     "output_type": "stream",
     "text": [
      "['C', 'h', 'a', 'r', 'a', 'c', 't', 'e', 'r', 's', 'a', 'A', 'z', 'Z']\n"
     ]
    }
   ],
   "source": [
    "import re\n",
    "\n",
    "text = \"Characters: a, A, z, Z\"\n",
    "\n",
    "pattern = r'[a-zA-Z]'\n",
    "\n",
    "matches = re.findall(pattern, text)\n",
    "\n",
    "print(matches)  "
   ]
  },
  {
   "cell_type": "markdown",
   "metadata": {},
   "source": [
    "### Counting Occurences"
   ]
  },
  {
   "cell_type": "markdown",
   "metadata": {},
   "source": [
    "##### {x} - something that occurs {num_of_times}"
   ]
  },
  {
   "cell_type": "code",
   "execution_count": 8,
   "metadata": {},
   "outputs": [
    {
     "name": "stdout",
     "output_type": "stream",
     "text": [
      "['xxx', 'xxx']\n"
     ]
    }
   ],
   "source": [
    "import re\n",
    "\n",
    "text = \"xxx x xx xxxx\"\n",
    "\n",
    "pattern = r'x{3}'\n",
    "\n",
    "occurrences = re.findall(pattern, text)\n",
    "\n",
    "print(occurrences)  # Output: ['xxx', 'xxx']\n"
   ]
  },
  {
   "cell_type": "markdown",
   "metadata": {},
   "source": [
    "##### {x, x} - something that occurs between x and x times"
   ]
  },
  {
   "cell_type": "code",
   "execution_count": 9,
   "metadata": {},
   "outputs": [
    {
     "name": "stdout",
     "output_type": "stream",
     "text": [
      "['aa', 'aaaa', 'aaaa']\n"
     ]
    }
   ],
   "source": [
    "import re\n",
    "\n",
    "text = \"aa aaaa a aaaaa\"\n",
    "\n",
    "pattern = r'a{2,4}'\n",
    "\n",
    "matches = re.findall(pattern, text)\n",
    "\n",
    "print(matches) \n"
   ]
  },
  {
   "cell_type": "markdown",
   "metadata": {},
   "source": [
    "##### ? - something that occurs 0 or 1 time"
   ]
  },
  {
   "cell_type": "code",
   "execution_count": 10,
   "metadata": {},
   "outputs": [
    {
     "name": "stdout",
     "output_type": "stream",
     "text": [
      "['color', 'colour']\n"
     ]
    }
   ],
   "source": [
    "import re\n",
    "\n",
    "text = \"The color of the wall is white. The colour of the sky is blue.\"\n",
    "\n",
    "pattern = r'colou?r'\n",
    "\n",
    "matches = re.findall(pattern, text)\n",
    "\n",
    "print(matches) "
   ]
  },
  {
   "cell_type": "markdown",
   "metadata": {},
   "source": [
    "##### * - something that occurs at least 0 times"
   ]
  },
  {
   "cell_type": "code",
   "execution_count": 11,
   "metadata": {},
   "outputs": [
    {
     "name": "stdout",
     "output_type": "stream",
     "text": [
      "['cat', 'cats']\n"
     ]
    }
   ],
   "source": [
    "import re\n",
    "\n",
    "text = \"The cat sat on the mat. The cats sat on the mats.\"\n",
    "\n",
    "pattern = r'cats*'\n",
    "\n",
    "matches = re.findall(pattern, text)\n",
    "\n",
    "print(matches) \n"
   ]
  },
  {
   "cell_type": "markdown",
   "metadata": {},
   "source": [
    "##### + - something that occurs at least once"
   ]
  },
  {
   "cell_type": "code",
   "execution_count": null,
   "metadata": {},
   "outputs": [],
   "source": [
    "import re\n",
    "\n",
    "text = \"ab abb abbb a abbbbbb\"\n",
    "\n",
    "pattern = r'ab+'\n",
    "\n",
    "matches = re.findall(pattern, text)\n",
    "\n",
    "print(matches) \n"
   ]
  },
  {
   "cell_type": "markdown",
   "metadata": {},
   "source": [
    "##### In-class exercise 1: \n",
    "\n",
    "Use a regular expression to find every number in the given string"
   ]
  },
  {
   "cell_type": "code",
   "execution_count": 12,
   "metadata": {},
   "outputs": [
    {
     "name": "stdout",
     "output_type": "stream",
     "text": [
      "['15', '99', '25']\n"
     ]
    }
   ],
   "source": [
    "\n",
    "import re\n",
    "\n",
    "text = \"The price of the book is $15.99 and the quantity is 25.\"\n",
    "\n",
    "pattern = r'\\d+'\n",
    "\n",
    "numbers = re.findall(pattern, text)\n",
    "\n",
    "print(numbers) "
   ]
  },
  {
   "cell_type": "markdown",
   "metadata": {},
   "source": [
    "### Escaping Characters"
   ]
  },
  {
   "cell_type": "markdown",
   "metadata": {},
   "source": [
    "##### \\w - look for any Unicode character<br/>\\W - look for anything that isnt a Unicode character\n",
    "\n",
    "[History on Unicode](http://unicode.org/standard/WhatIsUnicode.html)\n",
    "\n",
    "[More on Unicode Characters](https://en.wikipedia.org/wiki/List_of_Unicode_characters)"
   ]
  },
  {
   "cell_type": "code",
   "execution_count": 13,
   "metadata": {},
   "outputs": [
    {
     "name": "stdout",
     "output_type": "stream",
     "text": [
      "Word characters (\\w): ['Hello', 'World', '123', '_test_']\n",
      "Non-word characters (\\W): [' ', '! ', ' ']\n"
     ]
    }
   ],
   "source": [
    "import re\n",
    "\n",
    "text = \"Hello World! 123 _test_\"\n",
    "\n",
    "pattern_w = r'\\w+'\n",
    "matches_w = re.findall(pattern_w, text)\n",
    "print(\"Word characters (\\w):\", matches_w)  \n",
    "\n",
    "pattern_W = r'\\W+'\n",
    "matches_W = re.findall(pattern_W, text)\n",
    "print(\"Non-word characters (\\W):\", matches_W)  \n"
   ]
  },
  {
   "cell_type": "markdown",
   "metadata": {},
   "source": [
    "##### \\d - look for any digit 0-9<br/>\\D - look for anything that isnt a digit"
   ]
  },
  {
   "cell_type": "code",
   "execution_count": null,
   "metadata": {},
   "outputs": [],
   "source": [
    "import re\n",
    "\n",
    "text = \"The price of the book is $15.99.\"\n",
    "\n",
    "pattern_d = r'\\d+'\n",
    "matches_d = re.findall(pattern_d, text)\n",
    "print(\"Digit characters (\\d):\", matches_d)  # Output: ['15', '99']\n",
    "\n",
    "pattern_D = r'\\D+'\n",
    "matches_D = re.findall(pattern_D, text)\n",
    "print(\"Non-digit characters (\\D):\", matches_D)  # Output: ['The price of the book is $', '.']\n"
   ]
  },
  {
   "cell_type": "markdown",
   "metadata": {},
   "source": [
    "##### \\s - look for any white space<br/>\\S - look for anything that isnt whitespace"
   ]
  },
  {
   "cell_type": "code",
   "execution_count": 14,
   "metadata": {},
   "outputs": [
    {
     "name": "stdout",
     "output_type": "stream",
     "text": [
      "Whitespace characters (\\s): [' ', ' ', ' ', ' ', ' ', ' ', ' ', ' ']\n",
      "Non-whitespace characters (\\S): ['The', 'quick', 'brown', 'fox', 'jumps', 'over', 'the', 'lazy', 'dog.']\n"
     ]
    }
   ],
   "source": [
    "import re\n",
    "\n",
    "text = \"The quick brown fox jumps over the lazy dog.\"\n",
    "\n",
    "\n",
    "pattern_s = r'\\s+'\n",
    "matches_s = re.findall(pattern_s, text)\n",
    "print(\"Whitespace characters (\\s):\", matches_s)  \n",
    "\n",
    "pattern_S = r'\\S+'\n",
    "matches_S = re.findall(pattern_S, text)\n",
    "print(\"Non-whitespace characters (\\S):\", matches_S)  \n"
   ]
  },
  {
   "cell_type": "markdown",
   "metadata": {},
   "source": [
    "##### \\b - look for boundaries or edges of a word<br/>\\B - look for anything that isnt a boundary"
   ]
  },
  {
   "cell_type": "code",
   "execution_count": 15,
   "metadata": {},
   "outputs": [
    {
     "name": "stdout",
     "output_type": "stream",
     "text": [
      "Word boundaries ):\n",
      "Position 0: ''\n",
      "Position 5: ''\n",
      "Position 6: ''\n",
      "Position 11: ''\n",
      "Position 13: ''\n",
      "Position 17: ''\n",
      "Position 18: ''\n",
      "Position 20: ''\n",
      "Position 21: ''\n",
      "Position 22: ''\n",
      "Position 23: ''\n",
      "Position 27: ''\n",
      "\n",
      "Non-word boundaries (\\B):\n",
      "Position 1: ''\n",
      "Position 2: ''\n",
      "Position 3: ''\n",
      "Position 4: ''\n",
      "Position 7: ''\n",
      "Position 8: ''\n",
      "Position 9: ''\n",
      "Position 10: ''\n",
      "Position 12: ''\n",
      "Position 14: ''\n",
      "Position 15: ''\n",
      "Position 16: ''\n",
      "Position 19: ''\n",
      "Position 24: ''\n",
      "Position 25: ''\n",
      "Position 26: ''\n",
      "Position 28: ''\n"
     ]
    }
   ],
   "source": [
    "import re\n",
    "\n",
    "text = \"Hello world, this is a test.\"\n",
    "\n",
    "pattern_b = r'\\b'\n",
    "matches_b = re.finditer(pattern_b, text)\n",
    "\n",
    "print(\"Word boundaries (\\b):\")\n",
    "for match in matches_b:\n",
    "    print(f\"Position {match.start()}: '{text[match.start():match.end()]}'\")\n",
    "\n",
    "pattern_B = r'\\B'\n",
    "matches_B = re.finditer(pattern_B, text)\n",
    "\n",
    "print(\"\\nNon-word boundaries (\\B):\")\n",
    "for match in matches_B:\n",
    "    print(f\"Position {match.start()}: '{text[match.start():match.end()]}'\")\n"
   ]
  },
  {
   "cell_type": "markdown",
   "metadata": {},
   "source": [
    "### Grouping"
   ]
  },
  {
   "cell_type": "code",
   "execution_count": 16,
   "metadata": {},
   "outputs": [
    {
     "name": "stdout",
     "output_type": "stream",
     "text": [
      "Full Name: John Doe\n",
      "First Name: John\n",
      "Last Name: Doe\n",
      "\n",
      "Full Name: Alice Johnson\n",
      "First Name: Alice\n",
      "Last Name: Johnson\n",
      "\n",
      "Full Name: Bob Smith\n",
      "First Name: Bob\n",
      "Last Name: Smith\n",
      "\n"
     ]
    }
   ],
   "source": [
    "import re\n",
    "\n",
    "text = \"John Doe, Alice Johnson, Bob Smith\"\n",
    "\n",
    "\n",
    "pattern = r'(\\w+) (\\w+)'\n",
    "\n",
    "matches = re.findall(pattern, text)\n",
    "\n",
    "for match in matches:\n",
    "    print(\"Full Name:\", match[0] + \" \" + match[1])\n",
    "    print(\"First Name:\", match[0])\n",
    "    print(\"Last Name:\", match[1])\n",
    "    print()\n"
   ]
  },
  {
   "cell_type": "markdown",
   "metadata": {},
   "source": [
    "##### In-class Exercise 2:\n",
    "\n",
    "Write a function using regular expressions to find the domain name in the given email addresses (and return None for the invalid email addresses)<br><b>HINT: Use '|' for either or</b>"
   ]
  },
  {
   "cell_type": "code",
   "execution_count": 18,
   "metadata": {},
   "outputs": [
    {
     "name": "stdout",
     "output_type": "stream",
     "text": [
      "None\n",
      "pocohontas1776@gmail.com\n",
      "None\n",
      "yourfavoriteband@g6.org\n",
      "None\n"
     ]
    }
   ],
   "source": [
    "import re\n",
    "\n",
    "def extract_valid_emails(emails):\n",
    "    results = []\n",
    "    pattern = r'^[\\w\\.-]+@(?:[\\w-]+\\.)+(?:com|org)$'\n",
    "    \n",
    "    for email in emails:\n",
    "        match = re.match(pattern, email)\n",
    "        if match:\n",
    "            results.append(email)\n",
    "        else:\n",
    "            results.append(None)\n",
    "    \n",
    "    return results\n",
    "\n",
    "# Test cases\n",
    "my_emails = [\n",
    "    \"jordanw@codingtemple.orgcom\",\n",
    "    \"pocohontas1776@gmail.com\",\n",
    "    \"helloworld@aol..com\",\n",
    "    \"yourfavoriteband@g6.org\",\n",
    "    \"@codingtemple.com\"\n",
    "]\n",
    "\n",
    "results = extract_valid_emails(my_emails)\n",
    "\n",
    "for result in results:\n",
    "    print(result)\n"
   ]
  },
  {
   "cell_type": "markdown",
   "metadata": {},
   "source": [
    "### Opening a File <br>\n",
    "<p>Python gives us a couple ways to import files, below are the two used most often.</p>"
   ]
  },
  {
   "cell_type": "markdown",
   "metadata": {},
   "source": [
    "##### open()"
   ]
  },
  {
   "cell_type": "code",
   "execution_count": null,
   "metadata": {},
   "outputs": [],
   "source": [
    "# Opening a file in read mode\n",
    "file = open('example.txt', 'r')\n",
    "\n",
    "# Reading content from the file\n",
    "content = file.read()\n",
    "print(content)\n",
    "\n",
    "# Closing the file\n",
    "file.close()\n"
   ]
  },
  {
   "cell_type": "markdown",
   "metadata": {},
   "source": [
    "##### with open()"
   ]
  },
  {
   "cell_type": "code",
   "execution_count": null,
   "metadata": {},
   "outputs": [],
   "source": [
    "# Reading lines from a file using with open()\n",
    "with open('example.txt', 'r') as file:\n",
    "    content = file.readlines()\n",
    "    for line in content:\n",
    "        print(line.strip())  # strip() removes newline characters\n",
    "\n",
    "# File is automatically closed at the end of the with block\n"
   ]
  },
  {
   "cell_type": "markdown",
   "metadata": {},
   "source": [
    "##### re.match()"
   ]
  },
  {
   "cell_type": "code",
   "execution_count": 19,
   "metadata": {},
   "outputs": [
    {
     "name": "stdout",
     "output_type": "stream",
     "text": [
      "Match found: Hello\n"
     ]
    }
   ],
   "source": [
    "import re\n",
    "\n",
    "\n",
    "text = \"Hello, world!\"\n",
    "pattern = r'Hello'\n",
    "\n",
    "match_obj = re.match(pattern, text)\n",
    "\n",
    "if match_obj:\n",
    "    print(\"Match found:\", match_obj.group())\n",
    "else:\n",
    "    print(\"No match found.\")\n"
   ]
  },
  {
   "cell_type": "markdown",
   "metadata": {},
   "source": [
    "##### re.search()"
   ]
  },
  {
   "cell_type": "code",
   "execution_count": null,
   "metadata": {},
   "outputs": [],
   "source": [
    "import re\n",
    "\n",
    "text = \"Hello, world!\"\n",
    "pattern = r'world'\n",
    "\n",
    "match_obj = re.search(pattern, text)\n",
    "\n",
    "if match_obj:\n",
    "    print(\"Match found:\", match_obj.group())\n",
    "else:\n",
    "    print(\"No match found.\")\n"
   ]
  },
  {
   "cell_type": "markdown",
   "metadata": {},
   "source": [
    "##### Store the String to a Variable"
   ]
  },
  {
   "cell_type": "code",
   "execution_count": null,
   "metadata": {},
   "outputs": [],
   "source": [
    "import re\n",
    "\n",
    "text = \"Hello, world!\"\n",
    "pattern = r'world'\n",
    "\n",
    "match_obj = re.search(pattern, text)\n",
    "\n",
    "if match_obj:\n",
    "    matched_string = match_obj.group()\n",
    "    print(\"Match found:\", matched_string)\n",
    "else:\n",
    "    print(\"No match found.\")\n",
    "\n",
    "print(\"Matched string:\", matched_string)\n"
   ]
  },
  {
   "cell_type": "markdown",
   "metadata": {},
   "source": [
    "### In-Class Exercise #3 <br>\n",
    "<p>Print each persons name and twitter handle, using groups, should look like:</p>\n",
    "<p>==============<br>\n",
    "   Full Name / Twitter<br>\n",
    "   ==============</p>\n",
    "Derek Hawkins / @derekhawkins\n",
    "\n",
    " Erik Sven-Osterberg / @sverik\n",
    "\n",
    " Ryan Butz / @ryanbutz\n",
    "\n",
    " Example Exampleson / @example\n",
    "\n",
    " Ripal Pael / @ripalp\n",
    "\n",
    " Darth Vader / @darthvader"
   ]
  },
  {
   "cell_type": "code",
   "execution_count": 46,
   "metadata": {
    "scrolled": true
   },
   "outputs": [
    {
     "name": "stdout",
     "output_type": "stream",
     "text": [
      "ï»¿Hawkins, Derek        derek@codingtemple.com        (555) 555-5555        Teacher, Coding Temple        @derekhawkins / @codingtemple\n",
      "Zhai, Mo        mozhai@codingtemple.com        (555) 555-5554        Teacher, Coding Temple / @codingtemple\n",
      "Johnson, Joe        joejohnson@codingtemple.com                Johson, Joe / @codingtemple\n",
      "Osterberg, Sven-Erik        governor@norrbotten.co.se                Governor, Norrbotten        @sverik / @norrbotten\n",
      ", Tim        tim@killerrabbit.com                Enchanter, Killer Rabbit Cave / @killerrabbit\n",
      "Butz, Ryan        ryanb@codingtemple.com        (555) 555-5543        CEO, Coding Temple        @ryanbutz / @codingtemple\n",
      "Doctor, The        doctor+companion@tardis.co.uk                Time Lord, Gallifrey / @tardis\n",
      "Exampleson, Example        me@example.com        555-555-5552        Example, Example Co.        @example / @example\n",
      "Pael, Ripal        ripalp@codingtemple.com        (555) 555-5553        Teacher, Coding Temple        @ripalp / @codingtemple\n",
      "Vader, Darth        darth-vader@empire.gov        (555) 555-4444        Sith Lord, Galactic Empire        @darthvader / @empire\n",
      "Fernandez de la Vega Sanz, Maria Teresa        mtfvs@spain.gov                First Deputy Prime Minister, Spanish Gov / @spain\n"
     ]
    }
   ],
   "source": [
    "import re\n",
    "\n",
    "# Open the file and read its contents\n",
    "with open('names.txt', 'r') as file:\n",
    "    lines = file.readlines()\n",
    "\n",
    "    # Process each line\n",
    "    for line in lines:\n",
    "        # Split the line by tabs to extract fields\n",
    "        fields = line.strip().split('\\t')\n",
    "        \n",
    "        # Extract the full name (first field)\n",
    "        full_name = fields[0].strip()\n",
    "        \n",
    "        # Search for the Twitter handle in the last field\n",
    "        match = re.search(r'@(\\w+)', fields[-1])\n",
    "\n",
    "        if match:\n",
    "            twitter_handle = '@' + match.group(1)\n",
    "            # Print only the full name and Twitter handle\n",
    "            print(f\"{full_name} / {twitter_handle}\")\n"
   ]
  },
  {
   "cell_type": "markdown",
   "metadata": {},
   "source": [
    "### Regex project\n",
    "\n",
    "Use python to read the file regex_test.txt and print the Full name on each line using regular expressions and groups (return None for names with no first and last name, or names that aren't properly capitalized)\n",
    "##### Hint: use with open() and readlines()"
   ]
  },
  {
   "cell_type": "code",
   "execution_count": 66,
   "metadata": {},
   "outputs": [
    {
     "name": "stdout",
     "output_type": "stream",
     "text": [
      "None\n",
      "None\n",
      "Connor Milliken\n",
      "Jordan Alexander Williams\n",
      "Madonna\n",
      "None\n"
     ]
    }
   ],
   "source": [
    "import re\n",
    "\n",
    "# Regular expression for a properly capitalized full name with optional middle names\n",
    "name_pattern = re.compile(r'^([A-Z][a-z]+(?: [A-Z][a-z]+)*)$')\n",
    "\n",
    "# Open and read the file\n",
    "with open('regex_test.txt', 'r') as file:\n",
    "    for line in file:\n",
    "        line = line.strip()  # Remove any leading/trailing whitespace and newline characters\n",
    "        match = name_pattern.match(line)\n",
    "        if match:\n",
    "            print(match.group(1))\n",
    "        else:\n",
    "            print('None')\n"
   ]
  },
  {
   "cell_type": "code",
   "execution_count": null,
   "metadata": {},
   "outputs": [],
   "source": []
  }
 ],
 "metadata": {
  "kernelspec": {
   "display_name": "Python 3 (ipykernel)",
   "language": "python",
   "name": "python3"
  },
  "language_info": {
   "codemirror_mode": {
    "name": "ipython",
    "version": 3
   },
   "file_extension": ".py",
   "mimetype": "text/x-python",
   "name": "python",
   "nbconvert_exporter": "python",
   "pygments_lexer": "ipython3",
   "version": "3.10.6"
  }
 },
 "nbformat": 4,
 "nbformat_minor": 2
}
